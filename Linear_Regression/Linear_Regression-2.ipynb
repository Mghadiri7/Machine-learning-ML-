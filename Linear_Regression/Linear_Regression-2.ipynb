{
 "cells": [
  {
   "cell_type": "code",
   "execution_count": 1,
   "id": "6e63f927-24e1-4830-9a99-529bcf023d8e",
   "metadata": {},
   "outputs": [],
   "source": [
    "import numpy as np\n",
    "import pandas as pd\n",
    "import matplotlib.pyplot as plt\n",
    "import sklearn\n",
    "from sklearn.model_selection import train_test_split\n",
    "from sklearn import linear_model\n",
    "import joblib"
   ]
  },
  {
   "cell_type": "code",
   "execution_count": 2,
   "id": "761c8126-cab9-433b-a0ac-4f76c43beb06",
   "metadata": {},
   "outputs": [],
   "source": [
    "df = pd.read_csv(\"student-mat.csv\", sep=\";\")\n",
    "df = df[[\"age\", \"absences\", \"freetime\", \"Medu\", \"G1\", \"G2\", \"G3\"]]\n",
    "\n",
    "predict = \"G3\"\n",
    "X = np.array(df.drop([predict], axis=1))\n",
    "y = np.array(df[predict])"
   ]
  },
  {
   "cell_type": "code",
   "execution_count": 3,
   "id": "41de8d60-f752-491d-a980-92374fca0e1f",
   "metadata": {},
   "outputs": [],
   "source": [
    "EPOCH = 100\n",
    "best = 0\n",
    "rnd_state = 0\n",
    "for i in range(EPOCH):\n",
    "    x_train, x_test, y_train, y_test = train_test_split(X, y, test_size=0.1, random_state=i)\n",
    "    model = linear_model.LinearRegression()\n",
    "    model.fit(x_train, y_train)\n",
    "    acc = model.score(x_test, y_test)\n",
    "    if acc>best:\n",
    "        best = acc\n",
    "        rnd_state=i\n",
    "        file_name = \"Linear_Regression_2.sav\"  #sav is for joblib\n",
    "        joblib.dump(model, file_name)"
   ]
  },
  {
   "cell_type": "code",
   "execution_count": 4,
   "id": "475973c9-a5b5-41e9-a55d-55da0b5ca9bd",
   "metadata": {},
   "outputs": [
    {
     "data": {
      "text/plain": [
       "0.940891341083256"
      ]
     },
     "execution_count": 4,
     "metadata": {},
     "output_type": "execute_result"
    }
   ],
   "source": [
    "best"
   ]
  },
  {
   "cell_type": "code",
   "execution_count": 5,
   "id": "a0b01cbb-f509-4bb7-b726-ca2da306194b",
   "metadata": {},
   "outputs": [
    {
     "data": {
      "text/plain": [
       "82"
      ]
     },
     "execution_count": 5,
     "metadata": {},
     "output_type": "execute_result"
    }
   ],
   "source": [
    "rnd_state"
   ]
  },
  {
   "cell_type": "code",
   "execution_count": 6,
   "id": "008da713-7769-48e1-bd22-ef67dcfcd34e",
   "metadata": {},
   "outputs": [],
   "source": [
    "x_train, x_test, y_train, y_test = train_test_split(X, y, test_size=0.1, random_state=rnd_state)"
   ]
  },
  {
   "cell_type": "code",
   "execution_count": 8,
   "id": "cb14df79-5d8b-4768-83f1-bc5c493aca6b",
   "metadata": {},
   "outputs": [],
   "source": [
    "model = joblib.load(\"Linear_Regression_2.sav\")"
   ]
  },
  {
   "cell_type": "code",
   "execution_count": 9,
   "id": "dde4d317-7764-4d93-aeee-95fc0d8c007c",
   "metadata": {},
   "outputs": [
    {
     "name": "stdout",
     "output_type": "stream",
     "text": [
      "0.940891341083256\n"
     ]
    }
   ],
   "source": [
    "print(model.score(x_test, y_test))"
   ]
  }
 ],
 "metadata": {
  "kernelspec": {
   "display_name": "Python 3 (ipykernel)",
   "language": "python",
   "name": "python3"
  },
  "language_info": {
   "codemirror_mode": {
    "name": "ipython",
    "version": 3
   },
   "file_extension": ".py",
   "mimetype": "text/x-python",
   "name": "python",
   "nbconvert_exporter": "python",
   "pygments_lexer": "ipython3",
   "version": "3.10.11"
  }
 },
 "nbformat": 4,
 "nbformat_minor": 5
}
