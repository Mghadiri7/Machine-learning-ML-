{
 "cells": [
  {
   "cell_type": "code",
   "execution_count": 1,
   "id": "137fc20c-1fd3-471b-bf7e-ed0adb3f52e6",
   "metadata": {},
   "outputs": [],
   "source": [
    "import numpy as np\n",
    "from collections import Counter\n",
    "import pandas as pd\n",
    "from sklearn.preprocessing import LabelEncoder\n",
    "from sklearn.model_selection import train_test_split"
   ]
  },
  {
   "cell_type": "code",
   "execution_count": 2,
   "id": "b49fcbea-7e9d-4061-ad05-9e6ef8340092",
   "metadata": {},
   "outputs": [],
   "source": [
    "def euclidean_distance(x1, x2):\n",
    "    return np.sqrt(np.sum((x1-x2)**2))"
   ]
  },
  {
   "cell_type": "code",
   "execution_count": 3,
   "id": "2b98bd51-51ea-4739-a5ef-892838315522",
   "metadata": {},
   "outputs": [],
   "source": [
    "class KNN:\n",
    "    def __init__(self, k=3):\n",
    "        self.k = k\n",
    "\n",
    "    def fit(self, X, y):\n",
    "        self.X_train = X\n",
    "        self.y_train = y\n",
    "\n",
    "    def predict(self, X):\n",
    "        predicted_labels = [self._predict(x) for x in X]\n",
    "        return np.array(predicted_labels)\n",
    "\n",
    "    def _predict(self, x):\n",
    "        #calculate Distance\n",
    "        distance = [euclidean_distance(x, x_train) for x_train in self.X_train]\n",
    "        #Get K Nearest Samples, Labels\n",
    "        k_indicies = np.argsort(distance)[:self.k]\n",
    "        # k_nearest_label = [self.y_train[i] for i in k_indicies]\n",
    "        k_nearest_label = self.y_train[k_indicies]\n",
    "        #Vote!\n",
    "        most_common = Counter(k_nearest_label).most_common(1)\n",
    "        return most_common[0][0]"
   ]
  },
  {
   "cell_type": "code",
   "execution_count": 4,
   "id": "9ed70f7e-23d1-4450-aa6a-f925f3fbe7a5",
   "metadata": {},
   "outputs": [],
   "source": [
    "data = pd.read_csv(\"car.data\")\n",
    "myPreprocessor = LabelEncoder()\n",
    "buying = myPreprocessor.fit_transform(list(data[\"buying\"])).astype(int).tolist()\n",
    "maint = myPreprocessor.fit_transform(list(data[\"maint\"])).astype(int).tolist()\n",
    "door = myPreprocessor.fit_transform(list(data[\"door\"])).astype(int).tolist()\n",
    "persons = myPreprocessor.fit_transform(list(data[\"persons\"])).astype(int).tolist()\n",
    "lug_boot = myPreprocessor.fit_transform(list(data[\"lug_boot\"])).astype(int).tolist()\n",
    "safety = myPreprocessor.fit_transform(list(data[\"safety\"])).astype(int).tolist()\n",
    "clas = myPreprocessor.fit_transform(list(data[\"class\"])).astype(int).tolist()\n",
    "predict = \"class\"\n",
    "X = np.array(list(zip(buying, maint, door, persons, lug_boot, safety)))\n",
    "y = np.array(list(clas))\n",
    "x_train, x_test, y_train, y_test = train_test_split(X, y, test_size=0.1)"
   ]
  },
  {
   "cell_type": "code",
   "execution_count": 8,
   "id": "06cceee4-a738-416f-8edd-9062163a93aa",
   "metadata": {},
   "outputs": [],
   "source": [
    "model = KNN(5)\n",
    "model.fit(x_train, y_train)\n",
    "predictions = model.predict(x_test)"
   ]
  },
  {
   "cell_type": "code",
   "execution_count": 9,
   "id": "c6652808-12b2-4b2f-8f62-d08ae8eb1b47",
   "metadata": {},
   "outputs": [
    {
     "name": "stdout",
     "output_type": "stream",
     "text": [
      "90.17341040462428\n"
     ]
    }
   ],
   "source": [
    "n = 0\n",
    "for i in range(len(predictions)):\n",
    "    # print(f\"Real : {y_test[i]}, Prediction : {predictions[i]}\")\n",
    "    if y_test[i]==predictions[i]:\n",
    "        n+=1\n",
    "print(n/len(predictions)*100)"
   ]
  },
  {
   "cell_type": "code",
   "execution_count": null,
   "id": "6a785488-20d6-4327-a85b-a5a92cc59d26",
   "metadata": {},
   "outputs": [],
   "source": []
  },
  {
   "cell_type": "code",
   "execution_count": 6,
   "id": "f819456d-2d41-497c-8076-6f8b78164183",
   "metadata": {},
   "outputs": [
    {
     "name": "stdout",
     "output_type": "stream",
     "text": [
      "[1, 1, 2, 1, 3, 3, 3, 3, 2, 3]\n",
      "[(3, 5)]\n"
     ]
    },
    {
     "data": {
      "text/plain": [
       "Counter({3: 5, 1: 3, 2: 2})"
      ]
     },
     "execution_count": 6,
     "metadata": {},
     "output_type": "execute_result"
    }
   ],
   "source": [
    "from random import randint as rnd\n",
    "lst = [rnd(1,3) for i in range(10)]\n",
    "print(lst)\n",
    "print(Counter(lst).most_common(1))\n",
    "Counter(lst)"
   ]
  },
  {
   "cell_type": "code",
   "execution_count": null,
   "id": "ccc32da4-1a6a-431d-9062-862f9780d071",
   "metadata": {},
   "outputs": [],
   "source": []
  }
 ],
 "metadata": {
  "kernelspec": {
   "display_name": "Python 3 (ipykernel)",
   "language": "python",
   "name": "python3"
  },
  "language_info": {
   "codemirror_mode": {
    "name": "ipython",
    "version": 3
   },
   "file_extension": ".py",
   "mimetype": "text/x-python",
   "name": "python",
   "nbconvert_exporter": "python",
   "pygments_lexer": "ipython3",
   "version": "3.10.11"
  }
 },
 "nbformat": 4,
 "nbformat_minor": 5
}
