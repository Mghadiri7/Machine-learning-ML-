{
 "cells": [
  {
   "cell_type": "code",
   "execution_count": 1,
   "id": "75edbdf3-a07b-4fa0-b97b-44b0a25fec56",
   "metadata": {},
   "outputs": [],
   "source": [
    "from sklearn.svm import SVC\n",
    "from sklearn.datasets import load_breast_cancer\n",
    "from sklearn.model_selection import train_test_split\n",
    "from sklearn.metrics import (confusion_matrix, ConfusionMatrixDisplay, \n",
    "    accuracy_score, f1_score)\n",
    "import matplotlib.pyplot as plt"
   ]
  },
  {
   "cell_type": "code",
   "execution_count": 2,
   "id": "9abb8c8b-c5d6-4d51-8c1c-5f8da74e5739",
   "metadata": {},
   "outputs": [],
   "source": [
    "data = load_breast_cancer()\n",
    "X = data.data\n",
    "y = data.target"
   ]
  },
  {
   "cell_type": "code",
   "execution_count": 3,
   "id": "463f31f5-bf5d-4938-a5d6-8b96eb74def7",
   "metadata": {},
   "outputs": [
    {
     "name": "stdout",
     "output_type": "stream",
     "text": [
      "30\n",
      "569\n"
     ]
    }
   ],
   "source": [
    "print(len(X[0]))\n",
    "print(len(X))"
   ]
  },
  {
   "cell_type": "code",
   "execution_count": 4,
   "id": "4c1f02fb-30b6-45c1-8b88-0f999d5a79c4",
   "metadata": {},
   "outputs": [
    {
     "data": {
      "text/plain": [
       "212"
      ]
     },
     "execution_count": 4,
     "metadata": {},
     "output_type": "execute_result"
    }
   ],
   "source": [
    "y.tolist().count(0)"
   ]
  },
  {
   "cell_type": "code",
   "execution_count": 5,
   "id": "9416f8e5-b099-4b27-82de-990e27fd38d0",
   "metadata": {},
   "outputs": [
    {
     "data": {
      "text/plain": [
       "357"
      ]
     },
     "execution_count": 5,
     "metadata": {},
     "output_type": "execute_result"
    }
   ],
   "source": [
    "y.tolist().count(1)"
   ]
  },
  {
   "cell_type": "code",
   "execution_count": 6,
   "id": "a3bf91b2-7424-4924-96ee-4b7979e2bd06",
   "metadata": {},
   "outputs": [],
   "source": [
    "x_train, x_test, y_train, y_test = train_test_split(X, y ,test_size=0.2, random_state=123)"
   ]
  },
  {
   "cell_type": "code",
   "execution_count": 7,
   "id": "b56a5fb4-7d26-45e5-ba64-d8ab310a6330",
   "metadata": {},
   "outputs": [
    {
     "name": "stdout",
     "output_type": "stream",
     "text": [
      "Accuracy: 0.9298245614035088\n"
     ]
    }
   ],
   "source": [
    "model = SVC() #kernel is rbf\n",
    "model.fit(x_train, y_train)\n",
    "score = model.score(x_test, y_test)\n",
    "print(f\"Accuracy: {score}\")"
   ]
  },
  {
   "cell_type": "code",
   "execution_count": 8,
   "id": "4bc031d3-6548-4294-87e5-6ddb26e7d624",
   "metadata": {},
   "outputs": [
    {
     "name": "stdout",
     "output_type": "stream",
     "text": [
      "F1 Score: 0.948051948051948\n"
     ]
    }
   ],
   "source": [
    "predictions = model.predict(x_test)\n",
    "f1 = f1_score(y_test, predictions)\n",
    "print(\"F1 Score:\", f1)"
   ]
  },
  {
   "cell_type": "code",
   "execution_count": 9,
   "id": "303cd325-1174-4231-a8e6-e106e0e3a116",
   "metadata": {},
   "outputs": [
    {
     "name": "stdout",
     "output_type": "stream",
     "text": [
      "Accuracy: 0.9298245614035088\n"
     ]
    }
   ],
   "source": [
    "model1 = SVC(kernel='rbf')\n",
    "model1.fit(x_train, y_train)\n",
    "score = model1.score(x_test, y_test)\n",
    "print(f\"Accuracy: {score}\")"
   ]
  },
  {
   "cell_type": "code",
   "execution_count": 10,
   "id": "bf2c2a6f-4fa2-42b1-85f5-667ccf51a2bf",
   "metadata": {},
   "outputs": [
    {
     "name": "stdout",
     "output_type": "stream",
     "text": [
      "Accuracy: 0.9824561403508771\n"
     ]
    }
   ],
   "source": [
    "model2 = SVC(kernel='linear')\n",
    "model2.fit(x_train, y_train)\n",
    "acc = model2.score(x_test, y_test)\n",
    "print(f\"Accuracy: {acc}\")"
   ]
  },
  {
   "cell_type": "code",
   "execution_count": 11,
   "id": "a3e8f13a-d83a-4bda-bb59-e0573a6743d5",
   "metadata": {},
   "outputs": [
    {
     "name": "stdout",
     "output_type": "stream",
     "text": [
      "Accuracy: 0.4298245614035088\n"
     ]
    }
   ],
   "source": [
    "model3 = SVC(kernel='sigmoid')\n",
    "model3.fit(x_train, y_train)\n",
    "score = model3.score(x_test, y_test)\n",
    "print(f\"Accuracy: {score}\")"
   ]
  },
  {
   "cell_type": "code",
   "execution_count": 12,
   "id": "62e0d322-683e-49f7-8895-1f7bf1a746cd",
   "metadata": {},
   "outputs": [
    {
     "name": "stdout",
     "output_type": "stream",
     "text": [
      "Accuracy: 0.9298245614035088\n"
     ]
    }
   ],
   "source": [
    "model4 = SVC(kernel='poly')\n",
    "model4.fit(x_train, y_train)\n",
    "score = model4.score(x_test, y_test)\n",
    "print(f\"Accuracy: {score}\")"
   ]
  },
  {
   "cell_type": "code",
   "execution_count": 13,
   "id": "bcdac322-bd23-4be6-9818-6b0f75253971",
   "metadata": {},
   "outputs": [
    {
     "name": "stdout",
     "output_type": "stream",
     "text": [
      "F1 Score: 0.9864864864864865\n"
     ]
    }
   ],
   "source": [
    "predictions = model2.predict(x_test)\n",
    "f1 = f1_score(y_test, predictions)\n",
    "print(\"F1 Score:\", f1)"
   ]
  },
  {
   "cell_type": "code",
   "execution_count": 14,
   "id": "81997bd7-b6d6-441a-b406-fd026962fa36",
   "metadata": {},
   "outputs": [
    {
     "data": {
      "image/png": "[encoded data removed]",
      "text/plain": [
       "<Figure size 400x400 with 1 Axes>"
      ]
     },
     "metadata": {},
     "output_type": "display_data"
    }
   ],
   "source": [
    "cm = confusion_matrix(y_test, predictions)\n",
    "disp = ConfusionMatrixDisplay(confusion_matrix=cm)\n",
    "fig, ax = plt.subplots(figsize=(4,4))\n",
    "disp.plot(ax=ax, cmap=\"Blues\", colorbar=False)\n",
    "ax.set_title(\"Confusion Matrix\")\n",
    "ax.set_xlabel(f\"Predicted label\\n\\nAccuracy = {acc:.3f} | F1 = {f1:.3f}\")\n",
    "ax.set_ylabel(\"True label\")\n",
    "plt.tight_layout()\n",
    "plt.show()"
   ]
  }
 ],
 "metadata": {
  "kernelspec": {
   "display_name": "Python 3 (ipykernel)",
   "language": "python",
   "name": "python3"
  },
  "language_info": {
   "codemirror_mode": {
    "name": "ipython",
    "version": 3
   },
   "file_extension": ".py",
   "mimetype": "text/x-python",
   "name": "python",
   "nbconvert_exporter": "python",
   "pygments_lexer": "ipython3",
   "version": "3.10.11"
  }
 },
 "nbformat": 4,
 "nbformat_minor": 5
}
